{
 "cells": [
  {
   "cell_type": "markdown",
   "metadata": {},
   "source": [
    "# AutomateBirthdayEmails.py\n",
    "Automate Birthday Emails using Python\n",
    "\n",
    "## Libraries\n",
    "- Yagmail\n",
    "- Numpy\n",
    "- Pandas\n",
    "- Datetime\n",
    "\n",
    "\n",
    "## Installation\n",
    "- pip3/pip install yagmail\n",
    "- On the Less Secure Apps of Your Google Account>https://myaccount.google.com/u/1/lesssecureapps\n",
    "- And you are set.\n",
    "\n",
    "## Using\n",
    "\n",
    "- Update the Birthday.csv File as per your data. \n",
    "- Add your own email-id and password in the code.\n",
    "\n",
    "\n",
    "Both .py and notebook are provided.\n"
   ]
  },
  {
   "cell_type": "code",
   "execution_count": 7,
   "metadata": {},
   "outputs": [],
   "source": [
    "import yagmail \n",
    "import pandas as pd\n",
    "from datetime import date\n",
    "from datetime import time\n",
    "from datetime import datetime\n",
    "import numpy as np\n",
    "\n"
   ]
  },
  {
   "cell_type": "code",
   "execution_count": 1,
   "metadata": {},
   "outputs": [],
   "source": [
    "#Just to Make it Fancy. :)\n",
    "Wishes=['On this day, may your most cherished desires come true; i wish you success in life. Happy birthday!',\n",
    "        'We prayed to God to give us a special gift. He gave us you.  Dear you are a dream come true. Happy birthday!',\n",
    "        'You are my happiness. Your memories bring a smile to my face.  Have a wonderful day',\n",
    "        'Dear Friend, as you move into another year of your life, may the blessings and success follow you always. Happy birthday!',\n",
    "        'You are a very special person to me. Hope the New Year will not change, but have more memorable moments with you. Happy birthday!',\n",
    "        'Happy birthday my Love. This is my prayer for you on this special day. May accomplish what you wish and earnestly seek.',\n",
    "        ' I am blessed to have a friend like you, Loving thoughts and warm wishes on your birthday. Happy birthday!']"
   ]
  },
  {
   "cell_type": "code",
   "execution_count": 25,
   "metadata": {},
   "outputs": [],
   "source": [
    "#Fetching Data\n",
    "data=pd.read_csv(\"Birthdays.csv\")\n",
    "data[\"Birthdate\"]=pd.to_datetime(data[\"Birthdate\"])"
   ]
  },
  {
   "cell_type": "code",
   "execution_count": null,
   "metadata": {},
   "outputs": [],
   "source": [
    "#Email Sending\n",
    "def email_send(content,emails):\n",
    "    try:\n",
    "        yag=yagmail.SMTP('UrEmailid','UrPassword')#Insert Your Email Id and Passowrd here.\n",
    "        yag.send(emails,\"happy Birthday duh\",content)\n",
    "        print(\"Email Has been sent\")\n",
    "    except:\n",
    "        print(\"Nah\")  "
   ]
  },
  {
   "cell_type": "code",
   "execution_count": null,
   "metadata": {},
   "outputs": [],
   "source": [
    "#Main Program\n",
    "def ch_birth():\n",
    "    x=date.today()\n",
    "    f=0\n",
    "    for e in data[\"Birthdate\"]:\n",
    "        name=()\n",
    "        if e.month==x.month:\n",
    "            if e.day==x.day:\n",
    "                name=(data['Name'][f])\n",
    "                email=(data['email_id'][f])\n",
    "                print(name)\n",
    "                contents=(\"Happy Birthday {},\".format(name),'\\n',Wishes[np.random.randint(0,6)],yagmail.inline(\"B.jpg\"))\n",
    "                email_send(contents,email)\n",
    "                \n",
    "        f+=1  "
   ]
  }
 ],
 "metadata": {
  "kernelspec": {
   "display_name": "Python 3",
   "language": "python",
   "name": "python3"
  },
  "language_info": {
   "codemirror_mode": {
    "name": "ipython",
    "version": 3
   },
   "file_extension": ".py",
   "mimetype": "text/x-python",
   "name": "python",
   "nbconvert_exporter": "python",
   "pygments_lexer": "ipython3",
   "version": "3.8.3"
  }
 },
 "nbformat": 4,
 "nbformat_minor": 4
}
